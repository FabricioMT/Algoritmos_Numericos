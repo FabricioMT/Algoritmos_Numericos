{
 "cells": [
  {
   "cell_type": "code",
   "execution_count": 2,
   "metadata": {},
   "outputs": [],
   "source": [
    "import numpy as np"
   ]
  },
  {
   "cell_type": "code",
   "execution_count": 41,
   "metadata": {},
   "outputs": [
    {
     "data": {
      "text/plain": [
       "array((22, 2., 2, 5, 8),\n",
       "      dtype=[('23', '<i4'), ('21', '<f8'), ('2', '<i4'), ('3', '<i4'), ('7', '<i4')])"
      ]
     },
     "execution_count": 41,
     "metadata": {},
     "output_type": "execute_result"
    }
   ],
   "source": [
    "txt=b\"\"\"\n",
    "     ...: 2,3 2.1 2 3 7\n",
    "     ...: 22 2.0 2 5 8\n",
    "     ...: \"\"\"\n",
    "\n",
    "\n",
    "np.genfromtxt(txt.splitlines(),names=True,dtype=None)\n"
   ]
  },
  {
   "cell_type": "code",
   "execution_count": 39,
   "metadata": {},
   "outputs": [
    {
     "data": {
      "text/plain": [
       "array((22, 5), dtype=[('23', '<i4'), ('3', '<i4')])"
      ]
     },
     "execution_count": 39,
     "metadata": {},
     "output_type": "execute_result"
    }
   ],
   "source": [
    "np.genfromtxt(txt.splitlines(),names=True,dtype=None, usecols=[0,3])"
   ]
  },
  {
   "cell_type": "code",
   "execution_count": 26,
   "metadata": {},
   "outputs": [
    {
     "data": {
      "text/plain": [
       "array([(nan, nan, 23., 2.1), (nan, nan, 22., 2. )],\n",
       "      dtype=[('A', '<f4'), ('D', '<f4'), ('B', '<f4'), ('C', '<f4')])"
      ]
     },
     "execution_count": 26,
     "metadata": {},
     "output_type": "execute_result"
    }
   ],
   "source": [
    "np.genfromtxt(txt.splitlines(),names=True,dtype='f4', usecols=[0,3,1,2])"
   ]
  }
 ],
 "metadata": {
  "kernelspec": {
   "display_name": "Python 3.9.13 64-bit",
   "language": "python",
   "name": "python3"
  },
  "language_info": {
   "codemirror_mode": {
    "name": "ipython",
    "version": 3
   },
   "file_extension": ".py",
   "mimetype": "text/x-python",
   "name": "python",
   "nbconvert_exporter": "python",
   "pygments_lexer": "ipython3",
   "version": "3.9.13"
  },
  "orig_nbformat": 4,
  "vscode": {
   "interpreter": {
    "hash": "469241b12331ad6d43d5ebfeed273d6a436be7d60dc5a921127bd16693951b02"
   }
  }
 },
 "nbformat": 4,
 "nbformat_minor": 2
}
